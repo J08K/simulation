{
 "cells": [
  {
   "attachments": {},
   "cell_type": "markdown",
   "metadata": {},
   "source": [
    "First define some constants"
   ]
  },
  {
   "cell_type": "code",
   "execution_count": 3,
   "metadata": {},
   "outputs": [],
   "source": [
    "URI = \"localhost\"\n",
    "PORT = 3001\n",
    "USERNAME = \"admin\"\n",
    "PASSWORD = \"admin\"\n",
    "DB_NAME = \"simulationdb\"\n",
    "FULL_URI = db_url = f\"mongodb://{USERNAME}:{PASSWORD}@{URI}:{PORT}\"\n",
    "\n",
    "BASE_COLLECTION_NAME = \"simdata\""
   ]
  },
  {
   "attachments": {},
   "cell_type": "markdown",
   "metadata": {},
   "source": [
    "Now define an interface"
   ]
  },
  {
   "cell_type": "code",
   "execution_count": 12,
   "metadata": {},
   "outputs": [],
   "source": [
    "from typing import Any\n",
    "import pymongo\n",
    "import pymongo.collection\n",
    "\n",
    "class Simulation:\n",
    "\n",
    "    sim_name: str\n",
    "    client: pymongo.collection.Collection[dict[str, Any]]\n",
    "\n",
    "    def __init__(self, sim_name : str) -> None:\n",
    "        self.sim_name = sim_name\n",
    "        self.client = pymongo.MongoClient(FULL_URI)[DB_NAME][sim_name]\n",
    "\n",
    "    def get_entity_counts(self) -> list[dict[str, Any]]:\n",
    "        res = list(self.client.aggregate([\n",
    "            {\"$project\": {\n",
    "            \"_id\": \"$time_current\",\n",
    "            \"num_entities\": {\n",
    "                \"$size\": \"$board.entities\"\n",
    "                }\n",
    "            }},\n",
    "        ]))\n",
    "        return res"
   ]
  },
  {
   "attachments": {},
   "cell_type": "markdown",
   "metadata": {},
   "source": [
    "Now let's use it!"
   ]
  },
  {
   "cell_type": "code",
   "execution_count": 17,
   "metadata": {},
   "outputs": [],
   "source": [
    "import csv\n",
    "\n",
    "sim = Simulation(BASE_COLLECTION_NAME + \" 38\")\n",
    "\n",
    "with open(\"output.csv\", \"w+\", newline=\"\") as file:\n",
    "    writer = csv.DictWriter(file, [\"time\", \"entity_num\"])\n",
    "    writer.writeheader()\n",
    "    for item in sim.get_entity_counts():\n",
    "        writer.writerow({\"time\": item[\"_id\"], \"entity_num\": item[\"num_entities\"]})"
   ]
  }
 ],
 "metadata": {
  "kernelspec": {
   "display_name": "Python 3",
   "language": "python",
   "name": "python3"
  },
  "language_info": {
   "codemirror_mode": {
    "name": "ipython",
    "version": 3
   },
   "file_extension": ".py",
   "mimetype": "text/x-python",
   "name": "python",
   "nbconvert_exporter": "python",
   "pygments_lexer": "ipython3",
   "version": "3.11.0"
  },
  "orig_nbformat": 4
 },
 "nbformat": 4,
 "nbformat_minor": 2
}
